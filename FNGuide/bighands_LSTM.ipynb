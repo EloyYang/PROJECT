{
 "cells": [
  {
   "cell_type": "markdown",
   "id": "43898cc6",
   "metadata": {},
   "source": [
    "# LSTM"
   ]
  },
  {
   "cell_type": "markdown",
   "metadata": {},
   "source": [
    "Model : LSTM\n",
    "\n",
    "Data : KOSDAQ 2020.01.01 ~ 2024.04.30\n",
    "\n",
    "Feature : '시가', '고가', '저가', '종가', '거래량'\n",
    "\n",
    "Scaler : Standard"
   ]
  },
  {
   "cell_type": "markdown",
   "metadata": {},
   "source": [
    "## Data Load"
   ]
  },
  {
   "cell_type": "code",
   "execution_count": 1,
   "id": "f31d7ed4",
   "metadata": {},
   "outputs": [],
   "source": [
    "import pandas as pd\n",
    "import numpy as np\n",
    "import tensorflow as tf\n",
    "from sklearn.preprocessing import StandardScaler\n",
    "from tensorflow.keras.models import Sequential\n",
    "from tensorflow.keras.layers import LSTM, Dropout, Dense\n",
    "from sklearn.model_selection import train_test_split\n",
    "from tensorflow.keras.callbacks import Callback, ModelCheckpoint, EarlyStopping\n",
    "from sklearn.metrics import f1_score, precision_score, recall_score\n",
    "from sklearn.utils.class_weight import compute_class_weight\n",
    "import matplotlib.pyplot as plt"
   ]
  },
  {
   "cell_type": "code",
   "execution_count": 2,
   "id": "0eb3b002",
   "metadata": {},
   "outputs": [
    {
     "name": "stderr",
     "output_type": "stream",
     "text": [
      "/var/folders/h0/rz02629x2b535_x0qf1h70zm0000gn/T/ipykernel_14225/2916071686.py:5: DtypeWarning: Columns (7) have mixed types. Specify dtype option on import or set low_memory=False.\n",
      "  df = pd.read_csv(file_path)\n"
     ]
    },
    {
     "name": "stdout",
     "output_type": "stream",
     "text": [
      "            날짜    시가    고가    저가    종가     거래량       등락률  ticker\n",
      "0   2020-01-02  2820  2845  2780  2795  131742 -0.886525  060310\n",
      "1   2020-01-03  2795  2825  2775  2810  100374  0.536673  060310\n",
      "2   2020-01-06  2800  2805  2650  2685  201779 -4.448399  060310\n",
      "3   2020-01-07  2685  2745  2685  2745   62241  2.234637  060310\n",
      "4   2020-01-08  2720  2745  2580  2585  203909 -5.828780  060310\n",
      "5   2020-01-09  2645  2730  2640  2700   68577  4.448743  060310\n",
      "6   2020-01-10  2710  2785  2710  2785   71797  3.148148  060310\n",
      "7   2020-01-13  2770  2835  2740  2815  100353  1.077199  060310\n",
      "8   2020-01-14  2830  2845  2795  2805   83827 -0.355240  060310\n",
      "9   2020-01-15  2805  2825  2780  2800   81013 -0.178253  060310\n",
      "10  2020-01-16  2825  2950  2800  2905  308911  3.750000  060310\n",
      "11  2020-01-17  2900  2985  2885  2930  105773  0.860585  060310\n",
      "12  2020-01-20  2965  2965  2860  2880  128911 -1.706485  060310\n",
      "13  2020-01-21  2865  2920  2850  2890   88842  0.347222  060310\n",
      "14  2020-01-22  2890  2935  2850  2880  147537 -0.346021  060310\n",
      "15  2020-01-23  2880  2885  2815  2860   85542 -0.694444  060310\n",
      "16  2020-01-28  2850  2850  2655  2720  287399 -4.895105  060310\n",
      "17  2020-01-29  2720  2765  2610  2680  117811 -1.470588  060310\n",
      "18  2020-01-30  2650  2675  2580  2600  183478 -2.985075  060310\n",
      "19  2020-01-31  2600  2680  2575  2575  127803 -0.961538  060310\n",
      "20  2020-02-03  2575  2650  2495  2635  101895  2.330097  060310\n",
      "21  2020-02-04  2635  2770  2635  2755  112706  4.554080  060310\n",
      "22  2020-02-05  2775  2785  2705  2730  128390 -0.907441  060310\n",
      "23  2020-02-06  2730  2840  2730  2805  182898  2.747253  060310\n",
      "24  2020-02-07  2805  2820  2755  2775   59325 -1.069519  060310\n",
      "25  2020-02-10  2775  2810  2740  2810   53882  1.261261  060310\n",
      "26  2020-02-11  2820  2945  2810  2905  254267  3.380783  060310\n",
      "27  2020-02-12  2940  2945  2870  2905   97750  0.000000  060310\n",
      "28  2020-02-13  2910  2930  2865  2895  116120 -0.344234  060310\n",
      "29  2020-02-14  2900  2920  2845  2855   89527 -1.381693  060310\n"
     ]
    }
   ],
   "source": [
    "# 파일 경로\n",
    "file_path = '/Users/yangdong-yeong/Desktop/Fnguide/data/kosdaq_2020~2024.csv'\n",
    "\n",
    "# CSV 파일 불러오기\n",
    "df = pd.read_csv(file_path)\n",
    "\n",
    "# 'ticker' 열의 값을 문자열로 변환하고, 5자리인 경우 앞에 '0'을 추가\n",
    "df['ticker'] = df['ticker'].astype(str).str.zfill(6)\n",
    "\n",
    "# 변경된 데이터 확인\n",
    "print(df.head(5))"
   ]
  },
  {
   "cell_type": "code",
   "execution_count": 4,
   "id": "30ac88d5",
   "metadata": {},
   "outputs": [
    {
     "data": {
      "text/plain": [
       "(1597711, 8)"
      ]
     },
     "execution_count": 4,
     "metadata": {},
     "output_type": "execute_result"
    }
   ],
   "source": [
    "df.shape"
   ]
  },
  {
   "cell_type": "markdown",
   "metadata": {},
   "source": [
    "## Data Processing"
   ]
  },
  {
   "cell_type": "code",
   "execution_count": 5,
   "id": "502f4fe2",
   "metadata": {},
   "outputs": [],
   "source": [
    "#날짜 포맷 확인 및 변환\n",
    "df['날짜'] = pd.to_datetime(df['날짜'])\n",
    "\n",
    "# ticker 별로 데이터 분할\n",
    "tickers = tickers = df['ticker'].unique()\n",
    "ticker_df = {ticker: df[df['ticker'] == ticker] for ticker in tickers}"
   ]
  },
  {
   "cell_type": "code",
   "execution_count": null,
   "id": "8ffd4339",
   "metadata": {},
   "outputs": [],
   "source": [
    "# 스케일링\n",
    "scalers = {ticker: StandardScaler() for ticker in tickers}\n",
    "\n",
    "for ticker in tickers:\n",
    "    # 데이터프레임의 복사본 생성\n",
    "    df_copy = ticker_df[ticker].copy()\n",
    "    # 관련 컬럼을 float로 타입 변경\n",
    "    df_copy[['시가', '고가', '저가', '종가', '거래량']] = df_copy[['시가', '고가', '저가', '종가', '거래량']].astype(float)\n",
    "    # 데이터 스케일링\n",
    "    scaled_data = scalers[ticker].fit_transform(df_copy[['시가', '고가', '저가', '종가', '거래량']])\n",
    "    # 스케일된 데이터를 원본 DataFrame에 적용\n",
    "    ticker_df[ticker].loc[:, ['시가', '고가', '저가', '종가', '거래량']] = scaled_data\n",
    "    \n",
    "# 메모리 문제로 파일 중간 저장\n",
    "all_data = pd.concat([ticker_df[ticker] for ticker in tickers], axis=0, ignore_index=True)\n",
    "all_data.to_csv('/Users/yangdong-yeong/Downloads/ticker_df_combined.csv', index=False)"
   ]
  },
  {
   "cell_type": "code",
   "execution_count": null,
   "id": "ad00c7d3",
   "metadata": {},
   "outputs": [],
   "source": [
    "# CSV 파일 불러오기\n",
    "file_path = '/Users/yangdong-yeong/Downloads/ticker_df_combined.csv'\n",
    "ticker_df = pd.read_csv(file_path)\n",
    "\n",
    "# '날짜' 열을 datetime 객체로 변환\n",
    "ticker_df['날짜'] = pd.to_datetime(ticker_df['날짜'])\n",
    "\n",
    "# ticker 별로 데이터 분할\n",
    "tickers = ticker_df['ticker'].unique()\n",
    "ticker_data = {ticker: ticker_df[ticker_df['ticker'] == ticker] for ticker in tickers}"
   ]
  },
  {
   "cell_type": "code",
   "execution_count": null,
   "metadata": {},
   "outputs": [],
   "source": [
    "# 시퀀스 데이터와 레이블 생성 함수\n",
    "def create_sequences_and_labels(df, sequence_length, threshold=20, look_forward=30):\n",
    "    sequences = []\n",
    "    labels = []\n",
    "    if len(df) >= sequence_length + look_forward:\n",
    "\n",
    "        for i in range(len(df) - sequence_length - look_forward + 1):\n",
    "            sequence_start = i\n",
    "            sequence_end = i + sequence_length\n",
    "            future_start = sequence_end\n",
    "            future_end = future_start + look_forward\n",
    "\n",
    "            sequences.append(df[['시가', '고가', '저가', '종가', '거래량']].iloc[sequence_start:sequence_end].values)\n",
    "            future_data = df.iloc[future_start:future_end]\n",
    "            # 등락률을 사용하여 레이블 결정\n",
    "            labels.append(any(future_data['등락률'] >= threshold))\n",
    "\n",
    "        return np.array(sequences), np.array(labels).astype(int)\n",
    "    else:\n",
    "        return np.array([]), np.array([])  # 데이터 포인트가 부족할 경우 빈 배열 반환\n",
    "    \n",
    "# 시퀀스 길이 설정\n",
    "sequence_length = 180  # 과거 180일의 데이터로 시퀀스 생성\n",
    "num_features = 5\n",
    "\n",
    "# 각 ticker 별로 시퀀스와 레이블 생성\n",
    "ticker_sequences_and_labels = {ticker: create_sequences_and_labels(ticker_data[ticker], sequence_length) for ticker in tickers}\n",
    "\n",
    "# 모든 ticker의 시퀀스와 레이블을 하나의 리스트에 모으기\n",
    "all_sequences = []\n",
    "all_labels = []\n",
    "\n",
    "for ticker, (sequences, labels) in ticker_sequences_and_labels.items():\n",
    "    if sequences.size > 0:\n",
    "        all_sequences.append(sequences)\n",
    "        all_labels.append(labels)\n",
    "\n",
    "# 배열로 변환\n",
    "if all_sequences:\n",
    "    all_sequences = np.concatenate(all_sequences)\n",
    "    all_labels = np.concatenate(all_labels)\n",
    "else:\n",
    "    all_sequences, all_labels = np.array([]), np.array([])\n",
    "\n",
    "print(f\"Combined Sequences Shape: {all_sequences.shape if all_sequences.size > 0 else 'No sequences available'}\")\n",
    "print(f\"Combined Labels Shape: {all_labels.shape if all_labels.size > 0 else 'No labels available'}\")\n"
   ]
  },
  {
   "cell_type": "code",
   "execution_count": null,
   "id": "ece51f06",
   "metadata": {},
   "outputs": [],
   "source": [
    "# LSTM 모델\n",
    "model = Sequential([\n",
    "    LSTM(64, return_sequences=True, input_shape=(sequence_length, num_features)),\n",
    "    Dropout(0.5),\n",
    "    LSTM(32),\n",
    "    Dropout(0.5),\n",
    "    Dense(1, activation='sigmoid')\n",
    "])\n",
    "\n",
    "\n",
    "# 모델 컴파일\n",
    "model.compile(\n",
    "    optimizer=tf.keras.optimizers.legacy.Adam(learning_rate=0.001),\n",
    "    loss='binary_crossentropy',\n",
    "    metrics=['accuracy', tf.keras.metrics.Precision(), tf.keras.metrics.Recall()]\n",
    ")"
   ]
  },
  {
   "cell_type": "code",
   "execution_count": null,
   "metadata": {},
   "outputs": [],
   "source": [
    "# F1 Score 콜백 정의\n",
    "class F1ScoreCallback(tf.keras.callbacks.Callback):\n",
    "    def __init__(self, X_val, y_val):\n",
    "        super().__init__()\n",
    "        self.X_val = X_val\n",
    "        self.y_val = y_val\n",
    "        self.precision_scores = []\n",
    "        self.recall_scores = []\n",
    "        self.f1_scores = []\n",
    "\n",
    "    def on_epoch_end(self, epoch, logs=None):\n",
    "        val_predict = (self.model.predict(self.X_val) > 0.5).astype(int)\n",
    "        val_targ = self.y_val\n",
    "        precision = precision_score(val_targ, val_predict, zero_division=0)\n",
    "        recall = recall_score(val_targ, val_predict, zero_division=0)\n",
    "        f1 = f1_score(val_targ, val_predict, zero_division=0)\n",
    "\n",
    "        self.precision_scores.append(precision)\n",
    "        self.recall_scores.append(recall)\n",
    "        self.f1_scores.append(f1)\n",
    "\n",
    "    def plot_metrics(self):\n",
    "        epochs = range(1, len(self.f1_scores) + 1)\n",
    "        plt.figure(figsize=(10, 6))\n",
    "        plt.plot(epochs, self.f1_scores, label='F1 Score')\n",
    "        plt.plot(epochs, self.precision_scores, label='Precision')\n",
    "        plt.plot(epochs, self.recall_scores, label='Recall')\n",
    "        plt.xlabel('Epochs')\n",
    "        plt.ylabel('Score')\n",
    "        plt.legend()\n",
    "        plt.title('Model Performance Metrics')\n",
    "        plt.grid(True)\n",
    "        plt.show()"
   ]
  },
  {
   "cell_type": "code",
   "execution_count": null,
   "id": "71285bee",
   "metadata": {},
   "outputs": [],
   "source": [
    "# 데이터 분할\n",
    "X_train, X_test, y_train, y_test, indices_train, indices_test = train_test_split(\n",
    "    all_sequences, all_labels, np.arange(all_sequences.shape[0]), test_size=0.2, random_state=42)\n",
    "\n",
    "\n",
    "# 체크포인트를 저장할 경로 설정\n",
    "checkpoint_path = '/Users/yangdong-yeong/Desktop/Fnguide/Check_Point/model_{epoch:02d}-{val_loss:.2f}.h5'\n",
    "\n",
    "# 콜백 인스턴스 생성\n",
    "f1_callback = F1ScoreCallback(X_test, y_test)\n",
    "early_stopping = EarlyStopping(monitor='val_loss', patience=3, restore_best_weights=True)\n",
    "model_checkpoint_callback = ModelCheckpoint(\n",
    "    filepath=checkpoint_path,\n",
    "    save_weights_only=True,\n",
    "    monitor='val_loss',\n",
    "    mode='min',\n",
    "    save_best_only=True)\n",
    "\n",
    "\n",
    "# 클래스 가중치 계산\n",
    "class_weights = compute_class_weight('balanced', classes=np.unique(y_train), y=y_train)\n",
    "class_weight_dict = dict(enumerate(class_weights))"
   ]
  },
  {
   "cell_type": "code",
   "execution_count": null,
   "metadata": {},
   "outputs": [],
   "source": [
    "# 모델 학습\n",
    "history = model.fit(\n",
    "    X_train, y_train,\n",
    "    epochs=10,\n",
    "    batch_size=64,\n",
    "    validation_data=(X_test, y_test),\n",
    "    callbacks=[f1_callback, early_stopping, model_checkpoint_callback],\n",
    "    class_weight=class_weight_dict,  # 클래스 가중치 사용\n",
    "    verbose=2\n",
    ")\n",
    "\n",
    "# 학습 완료 후 지표 플로팅\n",
    "f1_callback.plot_metrics()"
   ]
  },
  {
   "cell_type": "code",
   "execution_count": null,
   "id": "2faa5533",
   "metadata": {},
   "outputs": [],
   "source": [
    "# 모델 예측\n",
    "predictions = model.predict(X_test)\n",
    "predicted_labels = (predictions > 0.5).astype(int)\n",
    "\n",
    "# 양성으로 예측된 샘플의 원본 인덱스와 예측된 레이블 추출\n",
    "positive_indices = np.where(predicted_labels == 1)[0]\n",
    "positive_actual_indices = indices_test[positive_indices]\n",
    "positive_predicted_labels = predicted_labels[positive_indices]\n",
    "\n",
    "# 원본 데이터에서 해당 인덱스의 'ticker'와 실제 레이블 추출\n",
    "positive_tickers = df.loc[positive_actual_indices, 'ticker']\n",
    "actual_labels = y_test[positive_indices]  # y_test에서 양성으로 예측된 인덱스의 실제 레이블 추출\n",
    "\n",
    "# 결과 출력\n",
    "for idx, ticker, pred_label, act_label in zip(positive_actual_indices, positive_tickers, positive_predicted_labels, actual_labels):\n",
    "    print(f\"Original Index: {idx}, Ticker: {ticker}, Predicted: {pred_label}, Actual: {act_label}\")"
   ]
  },
  {
   "cell_type": "code",
   "execution_count": null,
   "id": "e1212ea5",
   "metadata": {},
   "outputs": [
    {
     "name": "stdout",
     "output_type": "stream",
     "text": [
      "Total samples: 1284939\n",
      "Positive samples: 1091650\n",
      "Target ratio: 0.85\n"
     ]
    }
   ],
   "source": [
    "total_samples = 0\n",
    "positive_samples = 0\n",
    "\n",
    "# 각 ticker 별로 레이블 데이터에서 1과 0의 개수를 계산하여 타겟 비율을 확인\n",
    "for sequences, labels in ticker_sequences_and_labels.values():\n",
    "    total_samples += len(labels)\n",
    "    positive_samples += sum(labels)\n",
    "\n",
    "# 타겟 비율 계산\n",
    "target_ratio = positive_samples / total_samples\n",
    "\n",
    "print(f\"Total samples: {total_samples}\")\n",
    "print(f\"Positive samples: {positive_samples}\")\n",
    "print(f\"Target ratio: {target_ratio:.2f}\")"
   ]
  }
 ],
 "metadata": {
  "kernelspec": {
   "display_name": "Python 3 (ipykernel)",
   "language": "python",
   "name": "python3"
  },
  "language_info": {
   "codemirror_mode": {
    "name": "ipython",
    "version": 3
   },
   "file_extension": ".py",
   "mimetype": "text/x-python",
   "name": "python",
   "nbconvert_exporter": "python",
   "pygments_lexer": "ipython3",
   "version": "3.11.8"
  }
 },
 "nbformat": 4,
 "nbformat_minor": 5
}
